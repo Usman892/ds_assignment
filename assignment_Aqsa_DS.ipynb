{
 "cells": [
  {
   "cell_type": "code",
   "execution_count": 1,
   "id": "548e4aa3",
   "metadata": {},
   "outputs": [
    {
     "name": "stdout",
     "output_type": "stream",
     "text": [
      "Twinkle, twinkle, little star,\n",
      "        How I wonder what you are!\n",
      "                Up above the world so high,\n",
      "                Like a diamond in the sky.\n",
      "Twinkle, twinkle, little star,         \n",
      "       How I wonder what you are! \n"
     ]
    }
   ],
   "source": [
    "print('''Twinkle, twinkle, little star,\n",
    "        How I wonder what you are!\n",
    "                Up above the world so high,\n",
    "                Like a diamond in the sky.\n",
    "Twinkle, twinkle, little star,         \n",
    "       How I wonder what you are! ''')"
   ]
  },
  {
   "cell_type": "code",
   "execution_count": 2,
   "id": "51d58013",
   "metadata": {},
   "outputs": [
    {
     "name": "stdout",
     "output_type": "stream",
     "text": [
      "3.9.7\n"
     ]
    }
   ],
   "source": [
    "from platform import python_version\n",
    "print(python_version())"
   ]
  },
  {
   "cell_type": "code",
   "execution_count": 3,
   "id": "3f91d0a9",
   "metadata": {},
   "outputs": [
    {
     "name": "stdout",
     "output_type": "stream",
     "text": [
      "2022-01-01 21:48:40.702943\n"
     ]
    }
   ],
   "source": [
    "from datetime import datetime\n",
    "print(datetime.today())"
   ]
  },
  {
   "cell_type": "code",
   "execution_count": null,
   "id": "4d97730b",
   "metadata": {},
   "outputs": [],
   "source": [
    "inputdata = input(\"Enter radius of the circle\")\n",
    "print(\"Radius= \", 2*3.14*int(inputdata))"
   ]
  },
  {
   "cell_type": "code",
   "execution_count": null,
   "id": "18987ae2",
   "metadata": {},
   "outputs": [],
   "source": [
    "name1 = input(\"Enter your first name\")\n",
    "name2 = input(\"Enter your last name\")\n",
    "lenname1 = len(name1)\n",
    "lenname2 = len(name2)\n",
    "print(name1[lenname1::-1] + \" \" + name2[lenname2::-1])"
   ]
  },
  {
   "cell_type": "code",
   "execution_count": null,
   "id": "9b04b014",
   "metadata": {},
   "outputs": [],
   "source": [
    "i1 = input(\"Enter value 1\")\n",
    "i2 = input(\"Enter value 2\")\n",
    "add = int(i1) + int(i2)\n",
    "print(\"sum of two numbers is\", add)"
   ]
  },
  {
   "cell_type": "code",
   "execution_count": null,
   "id": "60705146",
   "metadata": {},
   "outputs": [],
   "source": []
  }
 ],
 "metadata": {
  "kernelspec": {
   "display_name": "Python 3 (ipykernel)",
   "language": "python",
   "name": "python3"
  },
  "language_info": {
   "codemirror_mode": {
    "name": "ipython",
    "version": 3
   },
   "file_extension": ".py",
   "mimetype": "text/x-python",
   "name": "python",
   "nbconvert_exporter": "python",
   "pygments_lexer": "ipython3",
   "version": "3.9.7"
  }
 },
 "nbformat": 4,
 "nbformat_minor": 5
}
